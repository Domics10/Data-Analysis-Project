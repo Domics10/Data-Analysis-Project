{
 "cells": [
  {
   "cell_type": "code",
   "execution_count": null,
   "id": "62ad27d9",
   "metadata": {},
   "outputs": [],
   "source": [
    "from neuralprophet import NeuralProphet\n",
    "from pytorch_lightning import LightningModule, Trainer\n",
    "import torch\n",
    "from torch.utils.data import DataLoader"
   ]
  },
  {
   "cell_type": "code",
   "execution_count": null,
   "id": "9dd47d11",
   "metadata": {},
   "outputs": [],
   "source": [
    "train_dataloader = DataLoader(train, batch_size=64, shuffle=True)\n",
    "validation_dataloader = DataLoader(validation, batch_size=64, shuffle=False)"
   ]
  },
  {
   "cell_type": "code",
   "execution_count": null,
   "id": "4fff5ac8",
   "metadata": {},
   "outputs": [],
   "source": [
    "class NeuralProphetLightning(LightningModule, NeuralProphet):\n",
    "    def __init__(self, train, validation_df, epochs, batch_size, learning_rate, early_stopping, metrics):\n",
    "        super().__init__()\n",
    "        self.train = train\n",
    "        self.validation_df = validation_df\n",
    "        self.epochs = epochs\n",
    "        self.batch_size = batch_size\n",
    "        self.learning_rate = learning_rate\n",
    "        self.early_stopping = early_stopping\n",
    "        self.metrics = metrics\n",
    "        self.criterion = torch.nn.MSELoss()\n",
    "        self.optimizer = torch.optim.Adam(self.parameters(), lr=self.learning_rate)\n",
    "\n",
    "    def forward(self, x):\n",
    "        return x\n",
    "\n",
    "    def training_step(self, batch, batch_idx):\n",
    "        x, y = batch\n",
    "        y_pred = self(x)\n",
    "        loss = self.criterion(y_pred, y)\n",
    "        self.log('train_loss', loss)\n",
    "        return {'loss': loss}\n",
    "\n",
    "    def validation_step(self, batch, batch_idx):\n",
    "        x, y = batch\n",
    "        y_pred = self(x)\n",
    "        loss = self.criterion(y_pred, y)\n",
    "        self.log('val_loss', loss)\n",
    "        return {'val_loss': loss}\n",
    "\n",
    "    def configure_optimizers(self):\n",
    "        return self.optimizer"
   ]
  },
  {
   "cell_type": "code",
   "execution_count": null,
   "id": "94155f48",
   "metadata": {},
   "outputs": [],
   "source": [
    "model = NeuralProphetLightning(train=train_dataloader, validation_df=validation_dataloader, \n",
    "epochs=1000, batch_size=64, learning_rate=1e-3, early_stopping=True, metrics=True)\n",
    "trainer = Trainer(accelerator='mps', devices=1)\n",
    "fitted = trainer.fit(model=model)\n",
    "forecast_neuralprohet = fitted.predict(test)"
   ]
  },
  {
   "cell_type": "code",
   "execution_count": null,
   "id": "684fa94e",
   "metadata": {},
   "outputs": [],
   "source": [
    "from sklearn.decomposition import PCA\n",
    "pca = PCA(n_components=8, svd_solver='auto').fit(features)\n",
    "pca_features = pca.transform(features)\n",
    "train_features, test_features = train_test_split(pca_features, test_size = 0.1)"
   ]
  }
 ],
 "metadata": {
  "kernelspec": {
   "display_name": "base",
   "language": "python",
   "name": "python3"
  },
  "language_info": {
   "name": "python",
   "version": "3.9.13 (main, Aug 25 2022, 18:24:45) \n[Clang 12.0.0 ]"
  },
  "vscode": {
   "interpreter": {
    "hash": "40d3a090f54c6569ab1632332b64b2c03c39dcf918b08424e98f38b5ae0af88f"
   }
  }
 },
 "nbformat": 4,
 "nbformat_minor": 5
}
